{
  "nbformat": 4,
  "nbformat_minor": 0,
  "metadata": {
    "colab": {
      "private_outputs": true,
      "provenance": []
    },
    "kernelspec": {
      "name": "python3",
      "display_name": "Python 3"
    },
    "language_info": {
      "name": "python"
    }
  },
  "cells": [
    {
      "cell_type": "markdown",
      "source": [
        "#Pattern"
      ],
      "metadata": {
        "id": "pgl4YM7fJeQV"
      }
    },
    {
      "cell_type": "markdown",
      "source": [
        "#A"
      ],
      "metadata": {
        "id": "-zVgyXxb5QTW"
      }
    },
    {
      "cell_type": "code",
      "source": [
        "for row in range(6):\n",
        "  for col in range(5):\n",
        "    if ((col ==0 or col == 4) and (row != 0)) or (row==0 or row==3) and (col >0 and col <4) :\n",
        "      print('*',end= ' ')\n",
        "    else:\n",
        "      print(end='    ')\n",
        "  print()"
      ],
      "metadata": {
        "id": "pl-qyLaI6cnJ"
      },
      "execution_count": null,
      "outputs": []
    },
    {
      "cell_type": "code",
      "source": [
        "for row  in range(6):\n",
        "  for col in range(5):\n",
        "    if ((col ==0 or col ==4) and (row!=0)) or ((row==0 or  row==3) and (col>0 and col<4)):\n",
        "      print('*',end=' ')\n",
        "    else:\n",
        "      print(end='  ')\n",
        "  print()"
      ],
      "metadata": {
        "id": "wuoYkmNE_cEB"
      },
      "execution_count": null,
      "outputs": []
    },
    {
      "cell_type": "markdown",
      "source": [
        "#B"
      ],
      "metadata": {
        "id": "reFrbt-hN0V4"
      }
    },
    {
      "cell_type": "code",
      "source": [
        "for row in range(7):\n",
        "  for col in range(4):\n",
        "    if (((col ==0 or (col ==3 and row!=0 and row!=6 and row!=3))) or ((row==0 or row==3 or row ==6) and (col>0 and col <3))):\n",
        "      print('*',end=' ')\n",
        "    else:\n",
        "      print(end='  ')\n",
        "  print()"
      ],
      "metadata": {
        "id": "Y5tHc5jUD8pc"
      },
      "execution_count": null,
      "outputs": []
    },
    {
      "cell_type": "markdown",
      "source": [
        "#C"
      ],
      "metadata": {
        "id": "27UYLRZwTjui"
      }
    },
    {
      "cell_type": "code",
      "source": [
        "for row in range(6):\n",
        "  for col in range(4):\n",
        "    if (col ==0 and (row !=0 and row !=5)) or ((row==0 or row==5) and (col!=0)):\n",
        "      print('*',end=' ')\n",
        "    else:\n",
        "      print(end=' ')\n",
        "  print()"
      ],
      "metadata": {
        "id": "vno59sJsOTlz"
      },
      "execution_count": null,
      "outputs": []
    },
    {
      "cell_type": "markdown",
      "source": [
        "#D"
      ],
      "metadata": {
        "id": "07-JgwQPYMwP"
      }
    },
    {
      "cell_type": "code",
      "source": [
        "for row in range(6):\n",
        "  for col in range(4):\n",
        "    if (row ==0 or row ==5) and(col !=3) or (col ==0 or (col == 3 and row !=0 and row!=5)):\n",
        "      print('*',end=' ')\n",
        "    else:\n",
        "      print(end='  ')\n",
        "\n",
        "  print()"
      ],
      "metadata": {
        "id": "lDSXFx3OYOhc"
      },
      "execution_count": null,
      "outputs": []
    },
    {
      "cell_type": "markdown",
      "source": [
        "#E"
      ],
      "metadata": {
        "id": "qkAeiMUynwiE"
      }
    },
    {
      "cell_type": "code",
      "source": [
        "for row in range(7):\n",
        "  for col in range(6):\n",
        "    if (col == 0 and row!=0 and row!=6) or (row ==0 or row == 6 or row ==3) and (col > 0 and col <5) :\n",
        "      print('*',end=' ')\n",
        "    else:\n",
        "      print(end=' ')\n",
        "  print()"
      ],
      "metadata": {
        "id": "FEc40O9jfnb0"
      },
      "execution_count": null,
      "outputs": []
    },
    {
      "cell_type": "markdown",
      "source": [
        "#F"
      ],
      "metadata": {
        "id": "VavfhakVn13I"
      }
    },
    {
      "cell_type": "code",
      "source": [
        "for row in range(7):\n",
        "  for col in range(6):\n",
        "    if col == 0 or row ==0 or (row ==3 and col<5):\n",
        "      print('*',end=' ')\n",
        "    else:\n",
        "      print(end=' ')\n",
        "  print()"
      ],
      "metadata": {
        "id": "KJ2fNngIn3gL"
      },
      "execution_count": null,
      "outputs": []
    },
    {
      "cell_type": "markdown",
      "source": [
        "#G"
      ],
      "metadata": {
        "id": "Rwcow-pLpYSV"
      }
    },
    {
      "cell_type": "code",
      "source": [
        "for row in range(7):\n",
        "  for col in range(4):\n",
        "    if (col == 0 and row!=0 and row !=6) or (row == 0 or row== 6) and (col !=0) or ((row ==4) and (col !=0 and col !=1) or ((row ==5) and col >2)):\n",
        "      print('*',end=' ')\n",
        "    else:\n",
        "      print(end=' ')\n",
        "  print()"
      ],
      "metadata": {
        "id": "DTVEsC3_pwzt"
      },
      "execution_count": null,
      "outputs": []
    },
    {
      "cell_type": "markdown",
      "source": [
        "#H"
      ],
      "metadata": {
        "id": "Kw7wiY5PvfJi"
      }
    },
    {
      "cell_type": "code",
      "source": [
        "for row in range(7):\n",
        "  for col in range(5):\n",
        "    if (col ==0 or col ==4) or (row == 3 and col > 0 and col <4):\n",
        "      print('*',end=' ')\n",
        "    else:\n",
        "      print(end='  ')\n",
        "  print()"
      ],
      "metadata": {
        "id": "5_fusn9TvhHD"
      },
      "execution_count": null,
      "outputs": []
    },
    {
      "cell_type": "markdown",
      "source": [
        "#I"
      ],
      "metadata": {
        "id": "XURXc4BGwN1y"
      }
    },
    {
      "cell_type": "code",
      "source": [
        "for row in range(7):\n",
        "  for col in range(5):\n",
        "    if (row == 0 or row ==6) or col ==2:\n",
        "      print('*',end=' ')\n",
        "    else:\n",
        "      print(end='  ')\n",
        "  print()"
      ],
      "metadata": {
        "id": "-HDl1Ne6wPW3"
      },
      "execution_count": null,
      "outputs": []
    },
    {
      "cell_type": "markdown",
      "source": [
        "#J"
      ],
      "metadata": {
        "id": "BFOSOaXtwpXU"
      }
    },
    {
      "cell_type": "code",
      "source": [
        "for row in range(7):\n",
        "  for col in range(5):\n",
        "    if (row == 0 or (row ==6 and col<2 )) or (col ==2) or (row==5 and col <1):\n",
        "      print('*',end=' ')\n",
        "    else:\n",
        "      print(end='  ')\n",
        "  print()"
      ],
      "metadata": {
        "id": "fXfZHlG6wor5"
      },
      "execution_count": null,
      "outputs": []
    },
    {
      "cell_type": "markdown",
      "source": [
        "#K"
      ],
      "metadata": {
        "id": "6hrCeXcMzmS7"
      }
    },
    {
      "cell_type": "code",
      "source": [
        "row_v = 0\n",
        "col_v =3\n",
        "for row in range(7):\n",
        "  for col in range(4):\n",
        "    if col ==0 or row==col+3:\n",
        "      print('*',end=' ')\n",
        "    elif row ==row_v and col ==col_v:\n",
        "      print('*',end=' ')\n",
        "      row_v +=1\n",
        "      col_v -=1\n",
        "    else:\n",
        "      print(end='  ')\n",
        "  print()\n",
        ""
      ],
      "metadata": {
        "id": "7iVKRL9kznCk"
      },
      "execution_count": null,
      "outputs": []
    },
    {
      "cell_type": "markdown",
      "source": [
        "#L"
      ],
      "metadata": {
        "id": "2ivM95PH1lU2"
      }
    },
    {
      "cell_type": "code",
      "source": [
        "for row in range(7):\n",
        "  for col in range(5):\n",
        "    if col==0 or row==6:\n",
        "      print('*',end=' ')\n",
        "    else:\n",
        "      print(end='  ')\n",
        "  print()"
      ],
      "metadata": {
        "id": "jD_QdztR1mLp"
      },
      "execution_count": null,
      "outputs": []
    },
    {
      "cell_type": "markdown",
      "source": [
        "#M"
      ],
      "metadata": {
        "id": "03t2I9a4GIh3"
      }
    },
    {
      "cell_type": "code",
      "source": [
        "for row in range(6):\n",
        "  for col in range(5):\n",
        "    if col ==0 or col ==4 or row ==col and col>0and col<3 or col ==3 and row==1:\n",
        "      print('*',end=' ')\n",
        "    else:\n",
        "      print(end='  ')\n",
        "  print()"
      ],
      "metadata": {
        "id": "8JCK5f1_GJ2d"
      },
      "execution_count": null,
      "outputs": []
    },
    {
      "cell_type": "markdown",
      "source": [
        "#N"
      ],
      "metadata": {
        "id": "p6LL8SZAIRU6"
      }
    },
    {
      "cell_type": "code",
      "source": [
        "for row in range(6):\n",
        "  for col in range(6):\n",
        "    if col ==0 or col ==5 or row ==col :\n",
        "      print('*',end=' ')\n",
        "    else:\n",
        "      print(end='  ')\n",
        "  print()"
      ],
      "metadata": {
        "id": "5nqHXh-nIS6V"
      },
      "execution_count": null,
      "outputs": []
    },
    {
      "cell_type": "markdown",
      "source": [
        "#O"
      ],
      "metadata": {
        "id": "bnMK1-NqJM-D"
      }
    },
    {
      "cell_type": "code",
      "source": [
        "for row in range(5):\n",
        "  for col in range(5):\n",
        "    if (col ==0 or col==4 )and (row !=0 and row !=4) or (row==0 or row==4) and (col>0 and col <4):\n",
        "      print('*',end=' ')\n",
        "    else:\n",
        "      print(end='  ')\n",
        "  print()"
      ],
      "metadata": {
        "id": "LS181nlIJN8f"
      },
      "execution_count": null,
      "outputs": []
    },
    {
      "cell_type": "markdown",
      "source": [
        "#P"
      ],
      "metadata": {
        "id": "6pQv_WLNMI1b"
      }
    },
    {
      "cell_type": "code",
      "source": [
        "for row in range(7):\n",
        "  for col in range(4):\n",
        "    if (col ==0 or col ==3 and row >0 and row <3) or (row ==0 and col<3) or row ==3 and col<3:\n",
        "      print('*',end=' ')\n",
        "    else:\n",
        "      print(end='  ')\n",
        "  print()"
      ],
      "metadata": {
        "id": "EZDKJ4nWLJYQ"
      },
      "execution_count": null,
      "outputs": []
    },
    {
      "cell_type": "markdown",
      "source": [
        "#Q"
      ],
      "metadata": {
        "id": "51FBZcEAMV2C"
      }
    },
    {
      "cell_type": "code",
      "source": [
        "for row in range(6):\n",
        "  for col in range(5):\n",
        "    if (row==0 or row==4) and 0<col<4 or (col==0 or col==4) and 0<row<4 or row==col+1 and row!=2:\n",
        "      print('*',end=' ')\n",
        "    else:\n",
        "      print(end='  ')\n",
        "  print()"
      ],
      "metadata": {
        "id": "7zqhiBxvMW-_"
      },
      "execution_count": null,
      "outputs": []
    },
    {
      "cell_type": "markdown",
      "source": [
        "#R"
      ],
      "metadata": {
        "id": "5Zopid9iPpYS"
      }
    },
    {
      "cell_type": "code",
      "source": [
        "for row in range(7):\n",
        "  for col in range(7):\n",
        "    if col ==0 or col ==4 and row>0 and row<3 or (row==0 or row==3 )and col<3  or row ==col and row> 3 and col >0:\n",
        "      print('*',end=' ')\n",
        "    else:\n",
        "      print(end=' ')\n",
        "  print()"
      ],
      "metadata": {
        "id": "fZ2-WbgrPqOp"
      },
      "execution_count": null,
      "outputs": []
    },
    {
      "cell_type": "code",
      "source": [
        "for row in range(7):\n",
        "  for col in range(5):\n",
        "    if col ==0 or col ==4  and 0<row<3 or ((row==0 or row==3) and col !=4) or row==col+2:\n",
        "      print('*',end=' ')\n",
        "    else:\n",
        "      print(end='  ')\n",
        "  print()"
      ],
      "metadata": {
        "id": "YkOVfQS9TC_G"
      },
      "execution_count": null,
      "outputs": []
    },
    {
      "cell_type": "markdown",
      "source": [
        "#S"
      ],
      "metadata": {
        "id": "5vnWpkPcUivN"
      }
    },
    {
      "cell_type": "code",
      "source": [
        "for row in range(7):\n",
        "  for col in range(5):\n",
        "    if row == 0 and col>0 and col <4 or row==3 and col>0 and col<4 or row ==6 and col >0 and col<4 or col==0 and row>0 and row<3 or col==4 and row >3 and row <6:\n",
        "      print('*',end=' ')\n",
        "    else:\n",
        "      print(end='  ')\n",
        "  print()"
      ],
      "metadata": {
        "id": "9RZnJKQ3W5xr"
      },
      "execution_count": null,
      "outputs": []
    },
    {
      "cell_type": "markdown",
      "source": [
        "#T"
      ],
      "metadata": {
        "id": "hcPZ3sNseagh"
      }
    },
    {
      "cell_type": "code",
      "source": [
        "for row in range(7):\n",
        "  for col in range(5):\n",
        "    if row ==0 or col ==2:\n",
        "      print('*',end=' ')\n",
        "    else:\n",
        "      print(end='  ')\n",
        "  print()"
      ],
      "metadata": {
        "id": "e4vWp75pebZI"
      },
      "execution_count": null,
      "outputs": []
    },
    {
      "cell_type": "markdown",
      "source": [
        "#U"
      ],
      "metadata": {
        "id": "rZ0iJ4YIfMD1"
      }
    },
    {
      "cell_type": "code",
      "source": [
        "for row in range(5):\n",
        "  for col in range(5):\n",
        "    if (col ==0 or col == 4) and row !=4 or row ==4 and col>0 and col<4:\n",
        "      print('*',end=' ')\n",
        "    else:\n",
        "      print(end='  ')\n",
        "  print()"
      ],
      "metadata": {
        "id": "qAYkNLHlfMyR"
      },
      "execution_count": null,
      "outputs": []
    },
    {
      "cell_type": "markdown",
      "source": [
        "#V"
      ],
      "metadata": {
        "id": "5gRo1aRlhE2p"
      }
    },
    {
      "cell_type": "code",
      "source": [
        "\n",
        "\n",
        "for row in range(4):\n",
        "  for col in range(7):\n",
        "    if col == row or row+col ==6:\n",
        "      print('*',end='')\n",
        "    else:\n",
        "      print(end=' ')\n",
        "  print()"
      ],
      "metadata": {
        "id": "XvAZIb8ZhGH6"
      },
      "execution_count": null,
      "outputs": []
    },
    {
      "cell_type": "markdown",
      "source": [
        "#X"
      ],
      "metadata": {
        "id": "BXzhh_Yqll5s"
      }
    },
    {
      "cell_type": "code",
      "source": [
        "\n",
        "\n",
        "for row in range(7):\n",
        "  for col in range(7):\n",
        "    if col == row or row+col ==6:\n",
        "      print('*',end='')\n",
        "    else:\n",
        "      print(end=' ')\n",
        "  print()"
      ],
      "metadata": {
        "id": "y8ZigNH7lmxC"
      },
      "execution_count": null,
      "outputs": []
    },
    {
      "cell_type": "code",
      "source": [
        "for row in range(7):\n",
        "  for col in range(7):\n",
        "    if row==0 or row ==6 or col+row ==6:\n",
        "      print('*',end=' ')\n",
        "    else:\n",
        "      print(end='  ')\n",
        "  print()"
      ],
      "metadata": {
        "id": "4x29Y2R3rlwb"
      },
      "execution_count": null,
      "outputs": []
    },
    {
      "cell_type": "code",
      "source": [],
      "metadata": {
        "id": "WCnLmyEhuxSi"
      },
      "execution_count": null,
      "outputs": []
    },
    {
      "cell_type": "code",
      "source": [
        "for row in range(5):\n",
        "  for col in range(row+1):\n",
        "    print('*',end='')\n",
        "  print()"
      ],
      "metadata": {
        "id": "gYon0c42ubsb"
      },
      "execution_count": null,
      "outputs": []
    },
    {
      "cell_type": "code",
      "source": [
        "for row in range(5,0,-1):\n",
        "  for col in range(1,row+1):\n",
        "    print('*',end='')\n",
        "  print()"
      ],
      "metadata": {
        "id": "P2EAz5dKubpF"
      },
      "execution_count": null,
      "outputs": []
    },
    {
      "cell_type": "code",
      "source": [
        "for row in range(5):\n",
        "  for col in range(row+1):\n",
        "    print('*',end='')\n",
        "  print()\n",
        "for  row in range(5):\n",
        "  for col in range(5-row):\n",
        "    print('*',end='')\n",
        "  print()"
      ],
      "metadata": {
        "id": "RDcxK22_ubmx"
      },
      "execution_count": null,
      "outputs": []
    },
    {
      "cell_type": "code",
      "source": [
        "for row in range(6):\n",
        "  for col in range(1,row+1):\n",
        "    print('==$>-',end='')\n",
        "  print()\n",
        "for row in range(5,0,-1):\n",
        "  for col in range(1,row+1):\n",
        "    print('==$>-',end='')\n",
        "  print()"
      ],
      "metadata": {
        "id": "LaVdwHJdubjX"
      },
      "execution_count": null,
      "outputs": []
    },
    {
      "cell_type": "code",
      "source": [
        "for row in range(6):\n",
        "  for col in range(1,row+1):\n",
        "    print(col,end='')\n",
        "  print()"
      ],
      "metadata": {
        "id": "E70g24KKubgd"
      },
      "execution_count": null,
      "outputs": []
    },
    {
      "cell_type": "code",
      "source": [
        "for row in range(5,0,-1):\n",
        "  for col in range(1,row+1):\n",
        "    print(col,end='')\n",
        "  print()"
      ],
      "metadata": {
        "id": "jwt_4LsLubdt"
      },
      "execution_count": null,
      "outputs": []
    },
    {
      "cell_type": "code",
      "source": [
        "for row in range(5+1):\n",
        "  for col in range(1,row+1):\n",
        "    print(col,end='')\n",
        "  print()\n",
        "\n",
        "\n",
        "\n",
        "for row in range(5+1):\n",
        "  for col  in range(1,6-row):\n",
        "    print(col,end='')\n",
        "  print()"
      ],
      "metadata": {
        "id": "d7T8sIRCubau"
      },
      "execution_count": null,
      "outputs": []
    },
    {
      "cell_type": "code",
      "source": [
        "for row in range(5):\n",
        "  for space in range(4-row):\n",
        "    print(' ',end='')\n",
        "  for col in range(2 * row+1):\n",
        "    print('*',end='')\n",
        "  print()"
      ],
      "metadata": {
        "id": "jzs0uYkhubXw"
      },
      "execution_count": null,
      "outputs": []
    },
    {
      "cell_type": "code",
      "source": [
        "for row in range(5):\n",
        "  for space in range(4-row):\n",
        "    print(' ',end='')\n",
        "  for col in range(2 * row+1):\n",
        "    print('*',end='')\n",
        "  print()\n",
        "\n",
        "for row in range(3,-1,-1):\n",
        "  for space in range(4-row):\n",
        "    print(' ',end='')\n",
        "  for col in range(2 * row+1):\n",
        "    print('*',end='')\n",
        "  print()"
      ],
      "metadata": {
        "id": "1JG6yNryubU5"
      },
      "execution_count": null,
      "outputs": []
    },
    {
      "cell_type": "code",
      "source": [
        "for row in range(1,6):\n",
        "  for space in range(1,6-row):\n",
        "    print(' ',end='')\n",
        "  for col in range(1,(2*row-1)+1):\n",
        "    print('*',end='')\n",
        "  print()\n",
        "for row in range(4,0,-1):\n",
        "  for space in range(1,6-row):\n",
        "    print(' ',end='')\n",
        "  for col in range(1,(2*row-1)+1):\n",
        "    print('*',end='')\n",
        "  print()"
      ],
      "metadata": {
        "id": "fLUfzfwkuX0R"
      },
      "execution_count": null,
      "outputs": []
    }
  ]
}