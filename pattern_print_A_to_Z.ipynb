{
  "cells": [
    {
      "cell_type": "markdown",
      "metadata": {
        "id": "pgl4YM7fJeQV"
      },
      "source": [
        "# Pattern"
      ]
    },
    {
      "cell_type": "markdown",
      "metadata": {
        "id": "-zVgyXxb5QTW"
      },
      "source": [
        "# A"
      ]
    },
    {
      "cell_type": "code",
      "execution_count": 38,
      "metadata": {
        "id": "pl-qyLaI6cnJ"
      },
      "outputs": [
        {
          "name": "stdout",
          "output_type": "stream",
          "text": [
            "  * * *   \n",
            "*       * \n",
            "*       * \n",
            "* * * * * \n",
            "*       * \n",
            "*       * \n"
          ]
        }
      ],
      "source": [
        "for row in range(6):\n",
        "  for col in range(5):\n",
        "    if ((col ==0 or col == 4) and (row != 0)) or (row==0 or row==3) and (col >0 and col <4) :\n",
        "      print('*',end= ' ')\n",
        "    else:\n",
        "      print(end='  ')\n",
        "  print()"
      ]
    },
    {
      "cell_type": "code",
      "execution_count": 2,
      "metadata": {
        "id": "wuoYkmNE_cEB"
      },
      "outputs": [
        {
          "name": "stdout",
          "output_type": "stream",
          "text": [
            "  * * *   \n",
            "*       * \n",
            "*       * \n",
            "* * * * * \n",
            "*       * \n",
            "*       * \n"
          ]
        }
      ],
      "source": [
        "for row  in range(6):\n",
        "  for col in range(5):\n",
        "    if ((col ==0 or col ==4) and (row!=0)) or ((row==0 or  row==3) and (col>0 and col<4)):\n",
        "      print('*',end=' ')\n",
        "    else:\n",
        "      print(end='  ')\n",
        "  print()"
      ]
    },
    {
      "cell_type": "markdown",
      "metadata": {
        "id": "reFrbt-hN0V4"
      },
      "source": [
        "# B"
      ]
    },
    {
      "cell_type": "code",
      "execution_count": 3,
      "metadata": {
        "id": "Y5tHc5jUD8pc"
      },
      "outputs": [
        {
          "name": "stdout",
          "output_type": "stream",
          "text": [
            "* * *   \n",
            "*     * \n",
            "*     * \n",
            "* * *   \n",
            "*     * \n",
            "*     * \n",
            "* * *   \n"
          ]
        }
      ],
      "source": [
        "for row in range(7):\n",
        "  for col in range(4):\n",
        "    if (((col ==0 or (col ==3 and row!=0 and row!=6 and row!=3))) or ((row==0 or row==3 or row ==6) and (col>0 and col <3))):\n",
        "      print('*',end=' ')\n",
        "    else:\n",
        "      print(end='  ')\n",
        "  print()"
      ]
    },
    {
      "cell_type": "markdown",
      "metadata": {
        "id": "27UYLRZwTjui"
      },
      "source": [
        "# C"
      ]
    },
    {
      "cell_type": "code",
      "execution_count": 4,
      "metadata": {
        "id": "vno59sJsOTlz"
      },
      "outputs": [
        {
          "name": "stdout",
          "output_type": "stream",
          "text": [
            " * * * \n",
            "*    \n",
            "*    \n",
            "*    \n",
            "*    \n",
            " * * * \n"
          ]
        }
      ],
      "source": [
        "for row in range(6):\n",
        "  for col in range(4):\n",
        "    if (col ==0 and (row !=0 and row !=5)) or ((row==0 or row==5) and (col!=0)):\n",
        "      print('*',end=' ')\n",
        "    else:\n",
        "      print(end=' ')\n",
        "  print()"
      ]
    },
    {
      "cell_type": "markdown",
      "metadata": {
        "id": "07-JgwQPYMwP"
      },
      "source": [
        "# D"
      ]
    },
    {
      "cell_type": "code",
      "execution_count": 5,
      "metadata": {
        "id": "lDSXFx3OYOhc"
      },
      "outputs": [
        {
          "name": "stdout",
          "output_type": "stream",
          "text": [
            "* * *   \n",
            "*     * \n",
            "*     * \n",
            "*     * \n",
            "*     * \n",
            "* * *   \n"
          ]
        }
      ],
      "source": [
        "for row in range(6):\n",
        "  for col in range(4):\n",
        "    if (row ==0 or row ==5) and(col !=3) or (col ==0 or (col == 3 and row !=0 and row!=5)):\n",
        "      print('*',end=' ')\n",
        "    else:\n",
        "      print(end='  ')\n",
        "\n",
        "  print()"
      ]
    },
    {
      "cell_type": "markdown",
      "metadata": {
        "id": "qkAeiMUynwiE"
      },
      "source": [
        "# E"
      ]
    },
    {
      "cell_type": "code",
      "execution_count": 6,
      "metadata": {
        "id": "FEc40O9jfnb0"
      },
      "outputs": [
        {
          "name": "stdout",
          "output_type": "stream",
          "text": [
            " * * * *  \n",
            "*      \n",
            "*      \n",
            "* * * * *  \n",
            "*      \n",
            "*      \n",
            " * * * *  \n"
          ]
        }
      ],
      "source": [
        "for row in range(7):\n",
        "  for col in range(6):\n",
        "    if (col == 0 and row!=0 and row!=6) or (row ==0 or row == 6 or row ==3) and (col > 0 and col <5) :\n",
        "      print('*',end=' ')\n",
        "    else:\n",
        "      print(end=' ')\n",
        "  print()"
      ]
    },
    {
      "cell_type": "markdown",
      "metadata": {
        "id": "VavfhakVn13I"
      },
      "source": [
        "# F"
      ]
    },
    {
      "cell_type": "code",
      "execution_count": 7,
      "metadata": {
        "id": "KJ2fNngIn3gL"
      },
      "outputs": [
        {
          "name": "stdout",
          "output_type": "stream",
          "text": [
            "* * * * * * \n",
            "*      \n",
            "*      \n",
            "* * * * *  \n",
            "*      \n",
            "*      \n",
            "*      \n"
          ]
        }
      ],
      "source": [
        "for row in range(7):\n",
        "  for col in range(6):\n",
        "    if col == 0 or row ==0 or (row ==3 and col<5):\n",
        "      print('*',end=' ')\n",
        "    else:\n",
        "      print(end=' ')\n",
        "  print()"
      ]
    },
    {
      "cell_type": "markdown",
      "metadata": {
        "id": "Rwcow-pLpYSV"
      },
      "source": [
        "# G"
      ]
    },
    {
      "cell_type": "code",
      "execution_count": 8,
      "metadata": {
        "id": "DTVEsC3_pwzt"
      },
      "outputs": [
        {
          "name": "stdout",
          "output_type": "stream",
          "text": [
            " * * * \n",
            "*    \n",
            "*    \n",
            "*    \n",
            "*  * * \n",
            "*   * \n",
            " * * * \n"
          ]
        }
      ],
      "source": [
        "for row in range(7):\n",
        "  for col in range(4):\n",
        "    if (col == 0 and row!=0 and row !=6) or (row == 0 or row== 6) and (col !=0) or ((row ==4) and (col !=0 and col !=1) or ((row ==5) and col >2)):\n",
        "      print('*',end=' ')\n",
        "    else:\n",
        "      print(end=' ')\n",
        "  print()"
      ]
    },
    {
      "cell_type": "markdown",
      "metadata": {
        "id": "Kw7wiY5PvfJi"
      },
      "source": [
        "# H"
      ]
    },
    {
      "cell_type": "code",
      "execution_count": 9,
      "metadata": {
        "id": "5_fusn9TvhHD"
      },
      "outputs": [
        {
          "name": "stdout",
          "output_type": "stream",
          "text": [
            "*       * \n",
            "*       * \n",
            "*       * \n",
            "* * * * * \n",
            "*       * \n",
            "*       * \n",
            "*       * \n"
          ]
        }
      ],
      "source": [
        "for row in range(7):\n",
        "  for col in range(5):\n",
        "    if (col ==0 or col ==4) or (row == 3 and col > 0 and col <4):\n",
        "      print('*',end=' ')\n",
        "    else:\n",
        "      print(end='  ')\n",
        "  print()"
      ]
    },
    {
      "cell_type": "markdown",
      "metadata": {
        "id": "XURXc4BGwN1y"
      },
      "source": [
        "# I"
      ]
    },
    {
      "cell_type": "code",
      "execution_count": 10,
      "metadata": {
        "id": "-HDl1Ne6wPW3"
      },
      "outputs": [
        {
          "name": "stdout",
          "output_type": "stream",
          "text": [
            "* * * * * \n",
            "    *     \n",
            "    *     \n",
            "    *     \n",
            "    *     \n",
            "    *     \n",
            "* * * * * \n"
          ]
        }
      ],
      "source": [
        "for row in range(7):\n",
        "  for col in range(5):\n",
        "    if (row == 0 or row ==6) or col ==2:\n",
        "      print('*',end=' ')\n",
        "    else:\n",
        "      print(end='  ')\n",
        "  print()"
      ]
    },
    {
      "cell_type": "markdown",
      "metadata": {
        "id": "BFOSOaXtwpXU"
      },
      "source": [
        "# J"
      ]
    },
    {
      "cell_type": "code",
      "execution_count": 11,
      "metadata": {
        "id": "fXfZHlG6wor5"
      },
      "outputs": [
        {
          "name": "stdout",
          "output_type": "stream",
          "text": [
            "* * * * * \n",
            "    *     \n",
            "    *     \n",
            "    *     \n",
            "    *     \n",
            "*   *     \n",
            "* * *     \n"
          ]
        }
      ],
      "source": [
        "for row in range(7):\n",
        "  for col in range(5):\n",
        "    if (row == 0 or (row ==6 and col<2 )) or (col ==2) or (row==5 and col <1):\n",
        "      print('*',end=' ')\n",
        "    else:\n",
        "      print(end='  ')\n",
        "  print()"
      ]
    },
    {
      "cell_type": "markdown",
      "metadata": {
        "id": "6hrCeXcMzmS7"
      },
      "source": [
        "# K"
      ]
    },
    {
      "cell_type": "code",
      "execution_count": 12,
      "metadata": {
        "id": "7iVKRL9kznCk"
      },
      "outputs": [
        {
          "name": "stdout",
          "output_type": "stream",
          "text": [
            "*     * \n",
            "*   *   \n",
            "* *     \n",
            "*       \n",
            "* *     \n",
            "*   *   \n",
            "*     * \n"
          ]
        }
      ],
      "source": [
        "row_v = 0\n",
        "col_v =3\n",
        "for row in range(7):\n",
        "  for col in range(4):\n",
        "    if col ==0 or row==col+3:\n",
        "      print('*',end=' ')\n",
        "    elif row ==row_v and col ==col_v:\n",
        "      print('*',end=' ')\n",
        "      row_v +=1\n",
        "      col_v -=1\n",
        "    else:\n",
        "      print(end='  ')\n",
        "  print()\n"
      ]
    },
    {
      "cell_type": "markdown",
      "metadata": {
        "id": "2ivM95PH1lU2"
      },
      "source": [
        "# L"
      ]
    },
    {
      "cell_type": "code",
      "execution_count": 13,
      "metadata": {
        "id": "jD_QdztR1mLp"
      },
      "outputs": [
        {
          "name": "stdout",
          "output_type": "stream",
          "text": [
            "*         \n",
            "*         \n",
            "*         \n",
            "*         \n",
            "*         \n",
            "*         \n",
            "* * * * * \n"
          ]
        }
      ],
      "source": [
        "for row in range(7):\n",
        "  for col in range(5):\n",
        "    if col==0 or row==6:\n",
        "      print('*',end=' ')\n",
        "    else:\n",
        "      print(end='  ')\n",
        "  print()"
      ]
    },
    {
      "cell_type": "markdown",
      "metadata": {
        "id": "03t2I9a4GIh3"
      },
      "source": [
        "# M"
      ]
    },
    {
      "cell_type": "code",
      "execution_count": 14,
      "metadata": {
        "id": "8JCK5f1_GJ2d"
      },
      "outputs": [
        {
          "name": "stdout",
          "output_type": "stream",
          "text": [
            "*       * \n",
            "* *   * * \n",
            "*   *   * \n",
            "*       * \n",
            "*       * \n",
            "*       * \n"
          ]
        },
        {
          "name": "stderr",
          "output_type": "stream",
          "text": [
            "<>:3: SyntaxWarning: invalid decimal literal\n",
            "<>:3: SyntaxWarning: invalid decimal literal\n",
            "C:\\Users\\nikes\\AppData\\Local\\Temp\\ipykernel_12456\\587524721.py:3: SyntaxWarning: invalid decimal literal\n",
            "  if col ==0 or col ==4 or row ==col and col>0and col<3 or col ==3 and row==1:\n"
          ]
        }
      ],
      "source": [
        "for row in range(6):\n",
        "  for col in range(5):\n",
        "    if col ==0 or col ==4 or row ==col and col>0and col<3 or col ==3 and row==1:\n",
        "      print('*',end=' ')\n",
        "    else:\n",
        "      print(end='  ')\n",
        "  print()"
      ]
    },
    {
      "cell_type": "markdown",
      "metadata": {
        "id": "p6LL8SZAIRU6"
      },
      "source": [
        "# N"
      ]
    },
    {
      "cell_type": "code",
      "execution_count": 15,
      "metadata": {
        "id": "5nqHXh-nIS6V"
      },
      "outputs": [
        {
          "name": "stdout",
          "output_type": "stream",
          "text": [
            "*         * \n",
            "* *       * \n",
            "*   *     * \n",
            "*     *   * \n",
            "*       * * \n",
            "*         * \n"
          ]
        }
      ],
      "source": [
        "for row in range(6):\n",
        "  for col in range(6):\n",
        "    if col ==0 or col ==5 or row ==col :\n",
        "      print('*',end=' ')\n",
        "    else:\n",
        "      print(end='  ')\n",
        "  print()"
      ]
    },
    {
      "cell_type": "markdown",
      "metadata": {
        "id": "bnMK1-NqJM-D"
      },
      "source": [
        "# O"
      ]
    },
    {
      "cell_type": "code",
      "execution_count": 16,
      "metadata": {
        "id": "LS181nlIJN8f"
      },
      "outputs": [
        {
          "name": "stdout",
          "output_type": "stream",
          "text": [
            "  * * *   \n",
            "*       * \n",
            "*       * \n",
            "*       * \n",
            "  * * *   \n"
          ]
        }
      ],
      "source": [
        "for row in range(5):\n",
        "  for col in range(5):\n",
        "    if (col ==0 or col==4 )and (row !=0 and row !=4) or (row==0 or row==4) and (col>0 and col <4):\n",
        "      print('*',end=' ')\n",
        "    else:\n",
        "      print(end='  ')\n",
        "  print()"
      ]
    },
    {
      "cell_type": "markdown",
      "metadata": {
        "id": "6pQv_WLNMI1b"
      },
      "source": [
        "# P"
      ]
    },
    {
      "cell_type": "code",
      "execution_count": 17,
      "metadata": {
        "id": "EZDKJ4nWLJYQ"
      },
      "outputs": [
        {
          "name": "stdout",
          "output_type": "stream",
          "text": [
            "* * *   \n",
            "*     * \n",
            "*     * \n",
            "* * *   \n",
            "*       \n",
            "*       \n",
            "*       \n"
          ]
        }
      ],
      "source": [
        "for row in range(7):\n",
        "  for col in range(4):\n",
        "    if (col ==0 or col ==3 and row >0 and row <3) or (row ==0 and col<3) or row ==3 and col<3:\n",
        "      print('*',end=' ')\n",
        "    else:\n",
        "      print(end='  ')\n",
        "  print()"
      ]
    },
    {
      "cell_type": "markdown",
      "metadata": {
        "id": "51FBZcEAMV2C"
      },
      "source": [
        "# Q"
      ]
    },
    {
      "cell_type": "code",
      "execution_count": 18,
      "metadata": {
        "id": "7zqhiBxvMW-_"
      },
      "outputs": [
        {
          "name": "stdout",
          "output_type": "stream",
          "text": [
            "  * * *   \n",
            "*       * \n",
            "*       * \n",
            "*   *   * \n",
            "  * * *   \n",
            "        * \n"
          ]
        }
      ],
      "source": [
        "for row in range(6):\n",
        "  for col in range(5):\n",
        "    if (row==0 or row==4) and 0<col<4 or (col==0 or col==4) and 0<row<4 or row==col+1 and row!=2:\n",
        "      print('*',end=' ')\n",
        "    else:\n",
        "      print(end='  ')\n",
        "  print()"
      ]
    },
    {
      "cell_type": "markdown",
      "metadata": {
        "id": "5Zopid9iPpYS"
      },
      "source": [
        "# R"
      ]
    },
    {
      "cell_type": "code",
      "execution_count": 19,
      "metadata": {
        "id": "fZ2-WbgrPqOp"
      },
      "outputs": [
        {
          "name": "stdout",
          "output_type": "stream",
          "text": [
            "* * *     \n",
            "*    *   \n",
            "*    *   \n",
            "* * *     \n",
            "*    *   \n",
            "*     *  \n",
            "*      * \n"
          ]
        }
      ],
      "source": [
        "for row in range(7):\n",
        "  for col in range(7):\n",
        "    if col ==0 or col ==4 and row>0 and row<3 or (row==0 or row==3 )and col<3  or row ==col and row> 3 and col >0:\n",
        "      print('*',end=' ')\n",
        "    else:\n",
        "      print(end=' ')\n",
        "  print()"
      ]
    },
    {
      "cell_type": "code",
      "execution_count": 20,
      "metadata": {
        "id": "YkOVfQS9TC_G"
      },
      "outputs": [
        {
          "name": "stdout",
          "output_type": "stream",
          "text": [
            "* * * *   \n",
            "*       * \n",
            "*       * \n",
            "* * * *   \n",
            "*   *     \n",
            "*     *   \n",
            "*       * \n"
          ]
        }
      ],
      "source": [
        "for row in range(7):\n",
        "  for col in range(5):\n",
        "    if col ==0 or col ==4  and 0<row<3 or ((row==0 or row==3) and col !=4) or row==col+2:\n",
        "      print('*',end=' ')\n",
        "    else:\n",
        "      print(end='  ')\n",
        "  print()"
      ]
    },
    {
      "cell_type": "markdown",
      "metadata": {
        "id": "5vnWpkPcUivN"
      },
      "source": [
        "# S"
      ]
    },
    {
      "cell_type": "code",
      "execution_count": 21,
      "metadata": {
        "id": "9RZnJKQ3W5xr"
      },
      "outputs": [
        {
          "name": "stdout",
          "output_type": "stream",
          "text": [
            "  * * *   \n",
            "*         \n",
            "*         \n",
            "  * * *   \n",
            "        * \n",
            "        * \n",
            "  * * *   \n"
          ]
        }
      ],
      "source": [
        "for row in range(7):\n",
        "  for col in range(5):\n",
        "    if row == 0 and col>0 and col <4 or row==3 and col>0 and col<4 or row ==6 and col >0 and col<4 or col==0 and row>0 and row<3 or col==4 and row >3 and row <6:\n",
        "      print('*',end=' ')\n",
        "    else:\n",
        "      print(end='  ')\n",
        "  print()"
      ]
    },
    {
      "cell_type": "markdown",
      "metadata": {
        "id": "hcPZ3sNseagh"
      },
      "source": [
        "# T"
      ]
    },
    {
      "cell_type": "code",
      "execution_count": 22,
      "metadata": {
        "id": "e4vWp75pebZI"
      },
      "outputs": [
        {
          "name": "stdout",
          "output_type": "stream",
          "text": [
            "* * * * * \n",
            "    *     \n",
            "    *     \n",
            "    *     \n",
            "    *     \n",
            "    *     \n",
            "    *     \n"
          ]
        }
      ],
      "source": [
        "for row in range(7):\n",
        "  for col in range(5):\n",
        "    if row ==0 or col ==2:\n",
        "      print('*',end=' ')\n",
        "    else:\n",
        "      print(end='  ')\n",
        "  print()"
      ]
    },
    {
      "cell_type": "markdown",
      "metadata": {
        "id": "rZ0iJ4YIfMD1"
      },
      "source": [
        "# U"
      ]
    },
    {
      "cell_type": "code",
      "execution_count": 23,
      "metadata": {
        "id": "qAYkNLHlfMyR"
      },
      "outputs": [
        {
          "name": "stdout",
          "output_type": "stream",
          "text": [
            "*       * \n",
            "*       * \n",
            "*       * \n",
            "*       * \n",
            "  * * *   \n"
          ]
        }
      ],
      "source": [
        "for row in range(5):\n",
        "  for col in range(5):\n",
        "    if (col ==0 or col == 4) and row !=4 or row ==4 and col>0 and col<4:\n",
        "      print('*',end=' ')\n",
        "    else:\n",
        "      print(end='  ')\n",
        "  print()"
      ]
    },
    {
      "cell_type": "markdown",
      "metadata": {
        "id": "5gRo1aRlhE2p"
      },
      "source": [
        "# V"
      ]
    },
    {
      "cell_type": "code",
      "execution_count": 24,
      "metadata": {
        "id": "XvAZIb8ZhGH6"
      },
      "outputs": [
        {
          "name": "stdout",
          "output_type": "stream",
          "text": [
            "*     *\n",
            " *   * \n",
            "  * *  \n",
            "   *   \n"
          ]
        }
      ],
      "source": [
        "\n",
        "\n",
        "for row in range(4):\n",
        "  for col in range(7):\n",
        "    if col == row or row+col ==6:\n",
        "      print('*',end='')\n",
        "    else:\n",
        "      print(end=' ')\n",
        "  print()"
      ]
    },
    {
      "cell_type": "markdown",
      "metadata": {
        "id": "BXzhh_Yqll5s"
      },
      "source": [
        "# X"
      ]
    },
    {
      "cell_type": "code",
      "execution_count": 25,
      "metadata": {
        "id": "y8ZigNH7lmxC"
      },
      "outputs": [
        {
          "name": "stdout",
          "output_type": "stream",
          "text": [
            "*     *\n",
            " *   * \n",
            "  * *  \n",
            "   *   \n",
            "  * *  \n",
            " *   * \n",
            "*     *\n"
          ]
        }
      ],
      "source": [
        "\n",
        "\n",
        "for row in range(7):\n",
        "  for col in range(7):\n",
        "    if col == row or row+col ==6:\n",
        "      print('*',end='')\n",
        "    else:\n",
        "      print(end=' ')\n",
        "  print()"
      ]
    },
    {
      "cell_type": "code",
      "execution_count": 26,
      "metadata": {
        "id": "4x29Y2R3rlwb"
      },
      "outputs": [
        {
          "name": "stdout",
          "output_type": "stream",
          "text": [
            "* * * * * * * \n",
            "          *   \n",
            "        *     \n",
            "      *       \n",
            "    *         \n",
            "  *           \n",
            "* * * * * * * \n"
          ]
        }
      ],
      "source": [
        "for row in range(7):\n",
        "  for col in range(7):\n",
        "    if row==0 or row ==6 or col+row ==6:\n",
        "      print('*',end=' ')\n",
        "    else:\n",
        "      print(end='  ')\n",
        "  print()"
      ]
    },
    {
      "cell_type": "code",
      "execution_count": null,
      "metadata": {
        "id": "WCnLmyEhuxSi"
      },
      "outputs": [],
      "source": []
    },
    {
      "cell_type": "code",
      "execution_count": 27,
      "metadata": {
        "id": "gYon0c42ubsb"
      },
      "outputs": [
        {
          "name": "stdout",
          "output_type": "stream",
          "text": [
            "*\n",
            "**\n",
            "***\n",
            "****\n",
            "*****\n"
          ]
        }
      ],
      "source": [
        "for row in range(5):\n",
        "  for col in range(row+1):\n",
        "    print('*',end='')\n",
        "  print()"
      ]
    },
    {
      "cell_type": "code",
      "execution_count": 28,
      "metadata": {
        "id": "P2EAz5dKubpF"
      },
      "outputs": [
        {
          "name": "stdout",
          "output_type": "stream",
          "text": [
            "*****\n",
            "****\n",
            "***\n",
            "**\n",
            "*\n"
          ]
        }
      ],
      "source": [
        "for row in range(5,0,-1):\n",
        "  for col in range(1,row+1):\n",
        "    print('*',end='')\n",
        "  print()"
      ]
    },
    {
      "cell_type": "code",
      "execution_count": 29,
      "metadata": {
        "id": "RDcxK22_ubmx"
      },
      "outputs": [
        {
          "name": "stdout",
          "output_type": "stream",
          "text": [
            "*\n",
            "**\n",
            "***\n",
            "****\n",
            "*****\n",
            "*****\n",
            "****\n",
            "***\n",
            "**\n",
            "*\n"
          ]
        }
      ],
      "source": [
        "for row in range(5):\n",
        "  for col in range(row+1):\n",
        "    print('*',end='')\n",
        "  print()\n",
        "for  row in range(5):\n",
        "  for col in range(5-row):\n",
        "    print('*',end='')\n",
        "  print()"
      ]
    },
    {
      "cell_type": "code",
      "execution_count": 30,
      "metadata": {
        "id": "LaVdwHJdubjX"
      },
      "outputs": [
        {
          "name": "stdout",
          "output_type": "stream",
          "text": [
            "\n",
            "==$>-\n",
            "==$>-==$>-\n",
            "==$>-==$>-==$>-\n",
            "==$>-==$>-==$>-==$>-\n",
            "==$>-==$>-==$>-==$>-==$>-\n",
            "==$>-==$>-==$>-==$>-==$>-\n",
            "==$>-==$>-==$>-==$>-\n",
            "==$>-==$>-==$>-\n",
            "==$>-==$>-\n",
            "==$>-\n"
          ]
        }
      ],
      "source": [
        "for row in range(6):\n",
        "  for col in range(1,row+1):\n",
        "    print('==$>-',end='')\n",
        "  print()\n",
        "for row in range(5,0,-1):\n",
        "  for col in range(1,row+1):\n",
        "    print('==$>-',end='')\n",
        "  print()"
      ]
    },
    {
      "cell_type": "code",
      "execution_count": 31,
      "metadata": {
        "id": "E70g24KKubgd"
      },
      "outputs": [
        {
          "name": "stdout",
          "output_type": "stream",
          "text": [
            "\n",
            "1\n",
            "12\n",
            "123\n",
            "1234\n",
            "12345\n"
          ]
        }
      ],
      "source": [
        "for row in range(6):\n",
        "  for col in range(1,row+1):\n",
        "    print(col,end='')\n",
        "  print()"
      ]
    },
    {
      "cell_type": "code",
      "execution_count": 32,
      "metadata": {
        "id": "jwt_4LsLubdt"
      },
      "outputs": [
        {
          "name": "stdout",
          "output_type": "stream",
          "text": [
            "12345\n",
            "1234\n",
            "123\n",
            "12\n",
            "1\n"
          ]
        }
      ],
      "source": [
        "for row in range(5,0,-1):\n",
        "  for col in range(1,row+1):\n",
        "    print(col,end='')\n",
        "  print()"
      ]
    },
    {
      "cell_type": "code",
      "execution_count": 33,
      "metadata": {
        "id": "d7T8sIRCubau"
      },
      "outputs": [
        {
          "name": "stdout",
          "output_type": "stream",
          "text": [
            "\n",
            "1\n",
            "12\n",
            "123\n",
            "1234\n",
            "12345\n",
            "12345\n",
            "1234\n",
            "123\n",
            "12\n",
            "1\n",
            "\n"
          ]
        }
      ],
      "source": [
        "for row in range(5+1):\n",
        "  for col in range(1,row+1):\n",
        "    print(col,end='')\n",
        "  print()\n",
        "\n",
        "\n",
        "\n",
        "for row in range(5+1):\n",
        "  for col  in range(1,6-row):\n",
        "    print(col,end='')\n",
        "  print()"
      ]
    },
    {
      "cell_type": "code",
      "execution_count": 34,
      "metadata": {
        "id": "jzs0uYkhubXw"
      },
      "outputs": [
        {
          "name": "stdout",
          "output_type": "stream",
          "text": [
            "    *\n",
            "   ***\n",
            "  *****\n",
            " *******\n",
            "*********\n"
          ]
        }
      ],
      "source": [
        "for row in range(5):\n",
        "  for space in range(4-row):\n",
        "    print(' ',end='')\n",
        "  for col in range(2 * row+1):\n",
        "    print('*',end='')\n",
        "  print()"
      ]
    },
    {
      "cell_type": "code",
      "execution_count": 35,
      "metadata": {
        "id": "1JG6yNryubU5"
      },
      "outputs": [
        {
          "name": "stdout",
          "output_type": "stream",
          "text": [
            "    *\n",
            "   ***\n",
            "  *****\n",
            " *******\n",
            "*********\n",
            " *******\n",
            "  *****\n",
            "   ***\n",
            "    *\n"
          ]
        }
      ],
      "source": [
        "for row in range(5):\n",
        "  for space in range(4-row):\n",
        "    print(' ',end='')\n",
        "  for col in range(2 * row+1):\n",
        "    print('*',end='')\n",
        "  print()\n",
        "\n",
        "for row in range(3,-1,-1):\n",
        "  for space in range(4-row):\n",
        "    print(' ',end='')\n",
        "  for col in range(2 * row+1):\n",
        "    print('*',end='')\n",
        "  print()"
      ]
    },
    {
      "cell_type": "code",
      "execution_count": 36,
      "metadata": {
        "id": "fLUfzfwkuX0R"
      },
      "outputs": [
        {
          "name": "stdout",
          "output_type": "stream",
          "text": [
            "    *\n",
            "   ***\n",
            "  *****\n",
            " *******\n",
            "*********\n",
            " *******\n",
            "  *****\n",
            "   ***\n",
            "    *\n"
          ]
        }
      ],
      "source": [
        "for row in range(1,6):\n",
        "  for space in range(1,6-row):\n",
        "    print(' ',end='')\n",
        "  for col in range(1,(2*row-1)+1):\n",
        "    print('*',end='')\n",
        "  print()\n",
        "for row in range(4,0,-1):\n",
        "  for space in range(1,6-row):\n",
        "    print(' ',end='')\n",
        "  for col in range(1,(2*row-1)+1):\n",
        "    print('*',end='')\n",
        "  print()"
      ]
    }
  ],
  "metadata": {
    "colab": {
      "private_outputs": true,
      "provenance": []
    },
    "kernelspec": {
      "display_name": "Python 3",
      "name": "python3"
    },
    "language_info": {
      "codemirror_mode": {
        "name": "ipython",
        "version": 3
      },
      "file_extension": ".py",
      "mimetype": "text/x-python",
      "name": "python",
      "nbconvert_exporter": "python",
      "pygments_lexer": "ipython3",
      "version": "3.12.4"
    }
  },
  "nbformat": 4,
  "nbformat_minor": 0
}
